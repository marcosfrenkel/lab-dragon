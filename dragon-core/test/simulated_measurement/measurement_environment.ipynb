{
 "cells": [
  {
   "metadata": {},
   "cell_type": "markdown",
   "source": [
    "# Simulated measurement file.\n",
    "\n",
    "This file is used to simulate the measurement environment for developing purposes. In here we will have an instance of the Instrumentserver running with some dummy measurements, take a measurement, fit the data and add all of that to the backend of 🐉LabDragon🐉.\n",
    "\n",
    "## Starting the instrumentserver.\n",
    "\n",
    "To start the instrumentserver you need to have it installed in your environment, this is not a requirement since this is merely for testing. You can find it [here](https://github.com/toolsforexperiments/instrumentserver). Once the server is installed open a new terminal in the same directory of this file and run the command:\n",
    "\n",
    "```bash\n",
    "instrumentserver -c serverConfig.yml\n",
    "```\n",
    "\n"
   ],
   "id": "9cfe2f7353cf0284"
  },
  {
   "metadata": {},
   "cell_type": "markdown",
   "source": "## Imports",
   "id": "94de7709c2de3cfd"
  },
  {
   "metadata": {},
   "cell_type": "code",
   "outputs": [],
   "execution_count": null,
   "source": [
    "import numpy as np\n",
    "\n",
    "from instrumentserver.client.proxy import Client\n",
    "\n",
    "from labcore import setup_measurements\n",
    "from labcore.analysis.fit import Fit\n",
    "from labcore.measurement.sweep import Sweep\n",
    "from labcore.measurement import record_as, indep, dep\n",
    "from labcore.analysis.mpl import fit_and_plot_1d\n",
    "\n",
    "from labcore.data.datadict_storage import load_as_xr\n",
    "\n",
    "from qcui_measurement.notebook import measurement_integrations\n",
    "from qcui_measurement.notebook.measurement_integrations import run_and_log_measurement\n",
    "from qcui_analysis.notebook import analysis\n",
    "from qcui_analysis.notebook.analysis import NotebookAnalysis\n"
   ],
   "id": "439d3b07c46798ae"
  },
  {
   "metadata": {},
   "cell_type": "markdown",
   "source": "## Start the client, get instruments and set parameters",
   "id": "9201a10265b851fe"
  },
  {
   "metadata": {},
   "cell_type": "code",
   "outputs": [],
   "execution_count": null,
   "source": [
    "client = Client()\n",
    "\n",
    "params = client.get_instrument(\"parameter_manager\")\n",
    "dummy = client.get_instrument(\"dummy_instrument\")\n",
    "\n",
    "DATADIR = \"./data\"\n",
    "\n",
    "setup_measurements.options.instrument_clients = {\"dummy\": dummy}\n",
    "setup_measurements.options.parameters = params\n",
    "setup_measurements.DATADIR = DATADIR\n",
    "\n",
    "measurement_integrations.SERVERADDRESS = \"http://localhost:8000\"\n",
    "measurement_integrations.CURRENTUSER = \"hoardmaster@lonelymountain.com\"\n",
    "measurement_integrations.BUCKETID = \"09928e7c-83b3-47a0-a5bf-208d219ff18a\"\n",
    "\n",
    "analysis.SERVERADDRESS = \"http://localhost:8000\"\n",
    "analysis.CURRENTUSER = \"hoardmaster@lonelymountain.com\"\n",
    "analysis.BUCKETID = \"09928e7c-83b3-47a0-a5bf-208d219ff18a\"\n",
    "\n",
    "\n"
   ],
   "id": "d05cbce93fdcc273"
  },
  {
   "metadata": {},
   "cell_type": "markdown",
   "source": "## Helper functions",
   "id": "3ec8dda7f6a227be"
  },
  {
   "metadata": {},
   "cell_type": "code",
   "outputs": [],
   "execution_count": null,
   "source": [
    "def single_noise_point():\n",
    "    return np.random.normal(0, 0.01) + 1j * np.random.normal(0, 0.01)"
   ],
   "id": "59f7d763dfc796b0"
  },
  {
   "metadata": {},
   "cell_type": "markdown",
   "source": "## Resonator",
   "id": "6c705a2680dc81ee"
  },
  {
   "metadata": {},
   "cell_type": "code",
   "outputs": [],
   "execution_count": null,
   "source": [
    "if not params.has_param(\"resonator_response.f0\"):\n",
    "    params.add_parameter(\"resonator_response.f0\", initial_value=4.94e9, unit=\"\")\n",
    "\n",
    "if not params.has_param(\"resonator_response.Q\"):\n",
    "    params.add_parameter(\"resonator_response.Q\", initial_value=1000, unit=\"\")\n",
    "\n",
    "if not params.has_param(\"resonator_response.Qc\"):\n",
    "    params.add_parameter(\"resonator_response.Qc\", initial_value=10000, unit=\"\")\n",
    "\n",
    "if not params.has_param(\"resonator_response.f_start\"):\n",
    "    params.add_parameter(\"resonator_response.f_start\", initial_value=5e9, unit=\"\")\n",
    "\n",
    "if not params.has_param(\"resonator_response.f_end\"):\n",
    "    params.add_parameter(\"resonator_response.f_end\", initial_value=5.05e9, unit=\"\")\n",
    "f0 = lambda: params.resonator_response.f0()\n",
    "Q = lambda: params.resonator_response.Q()\n",
    "Qc = lambda: params.resonator_response.Qc()\n",
    "f_start = lambda: params.resonator_response.f_start()\n",
    "f_end = lambda: params.resonator_response.f_end()\n",
    "\n",
    "\n",
    "class ResonatorTransmissionResponse(Fit):\n",
    "    @staticmethod\n",
    "    def model(coordinates, f0, Q, Qc):\n",
    "        return 1 - (Q / Qc) / (1 + 2j * Q * (coordinates - f0) / f0)\n",
    "\n",
    "    @staticmethod\n",
    "    def guess(coordinates, data):\n",
    "        return dict(f0=f0(), Q=Q(), Qc=Qc())\n",
    "\n",
    "\n",
    "\n",
    "def y_resonator(frequency):\n",
    "    return 1 - (Q() / Qc()) / (1 + 2j * Q() * (frequency - f0()) / f0()) + single_noise_point()\n",
    "\n",
    "\n",
    "resonator_sweep = Sweep(record_as(range(int(f_start()), int(f_end()), 10000), indep(\"frequency\")), record_as(y_resonator, dep(\"S21\")))"
   ],
   "id": "d554f1156953fd82"
  },
  {
   "metadata": {},
   "cell_type": "code",
   "outputs": [],
   "execution_count": null,
   "source": "data_loc = run_and_log_measurement(resonator_sweep, \"resonator_response\")",
   "id": "43c78d37534a0906"
  },
  {
   "metadata": {},
   "cell_type": "code",
   "outputs": [],
   "execution_count": null,
   "source": [
    "with NotebookAnalysis(data_loc, \"resonator_response_fit\") as nda:\n",
    "\n",
    "    data = load_as_xr(data_loc)\n",
    "\n",
    "    data, result, fig = fit_and_plot_1d(ds=data, name=\"frequency\", fit_class=ResonatorTransmissionResponse)\n",
    "\n",
    "    nda.add(plot=fig, fitresult=result, data=data)\n",
    "\n"
   ],
   "id": "a2170559f94417a2"
  },
  {
   "metadata": {},
   "cell_type": "code",
   "outputs": [],
   "execution_count": null,
   "source": "\n",
   "id": "364425c30fd5c2ee"
  }
 ],
 "metadata": {
  "kernelspec": {
   "display_name": "Python 3",
   "language": "python",
   "name": "python3"
  },
  "language_info": {
   "codemirror_mode": {
    "name": "ipython",
    "version": 2
   },
   "file_extension": ".py",
   "mimetype": "text/x-python",
   "name": "python",
   "nbconvert_exporter": "python",
   "pygments_lexer": "ipython2",
   "version": "2.7.6"
  }
 },
 "nbformat": 4,
 "nbformat_minor": 5
}
